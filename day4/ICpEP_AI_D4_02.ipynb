{
  "nbformat": 4,
  "nbformat_minor": 0,
  "metadata": {
    "colab": {
      "name": "ICpEP AI D4-02.ipynb",
      "provenance": [],
      "collapsed_sections": [],
      "authorship_tag": "ABX9TyP0EJKa3TtxGroW6ztiLGXC",
      "include_colab_link": true
    },
    "kernelspec": {
      "name": "python3",
      "display_name": "Python 3"
    },
    "accelerator": "GPU"
  },
  "cells": [
    {
      "cell_type": "markdown",
      "metadata": {
        "id": "view-in-github",
        "colab_type": "text"
      },
      "source": [
        "<a href=\"https://colab.research.google.com/github/dyjdlopez/icpep-ai-workshop-2021/blob/main/day4/ICpEP_AI_D4_02.ipynb\" target=\"_parent\"><img src=\"https://colab.research.google.com/assets/colab-badge.svg\" alt=\"Open In Colab\"/></a>"
      ]
    },
    {
      "cell_type": "code",
      "metadata": {
        "id": "AK43JeITdao9"
      },
      "source": [
        "#@title Licensed under the Apache License, Version 2.0 (the \"License\");\r\n",
        "# you may not use this file except in compliance with the License.\r\n",
        "# You may obtain a copy of the License at\r\n",
        "#\r\n",
        "# https://www.apache.org/licenses/LICENSE-2.0\r\n",
        "#\r\n",
        "# Unless required by applicable law or agreed to in writing, software\r\n",
        "# distributed under the License is distributed on an \"AS IS\" BASIS,\r\n",
        "# WITHOUT WARRANTIES OR CONDITIONS OF ANY KIND, either express or implied.\r\n",
        "# See the License for the specific language governing permissions and\r\n",
        "# limitations under the License."
      ],
      "execution_count": null,
      "outputs": []
    },
    {
      "cell_type": "markdown",
      "metadata": {
        "id": "lILSwdy7dgXH"
      },
      "source": [
        "# Deploying AI Models: TensorFlow Lite\r\n",
        "Copyright D.Lopez 2021 | All Rights reserved\r\n",
        "\r\n",
        "\r\n",
        "Developing AI models is one thing, but deploying them is another. Deployment of AI apps make them shine as consumer products or displays their applicability as applied research. In this module, we will discuss how to deploy an AI model."
      ]
    },
    {
      "cell_type": "code",
      "metadata": {
        "colab": {
          "base_uri": "https://localhost:8080/"
        },
        "id": "IH02y0SRg3Om",
        "outputId": "5a1ca388-a114-4da3-debd-71f660c50cc8"
      },
      "source": [
        "import numpy as np\r\n",
        "import matplotlib.pylab as plt\r\n",
        "\r\n",
        "import tensorflow as tf\r\n",
        "import tensorflow_hub as hub\r\n",
        "import tensorflow_datasets as tfds\r\n",
        "tfds.disable_progress_bar()\r\n",
        "\r\n",
        "from tqdm import tqdm\r\n",
        "\r\n",
        "print(\"\\u2022 Using TensorFlow Version:\", tf.__version__)\r\n",
        "print(\"\\u2022 Using TensorFlow Hub Version: \", hub.__version__)\r\n",
        "print('\\u2022 GPU Device Found.' if tf.test.is_gpu_available() else '\\u2022 GPU Device Not Found. Running on CPU')"
      ],
      "execution_count": null,
      "outputs": [
        {
          "output_type": "stream",
          "text": [
            "• Using TensorFlow Version: 2.4.1\n",
            "• Using TensorFlow Hub Version:  0.11.0\n",
            "WARNING:tensorflow:From <ipython-input-1-3dbef8589214>:13: is_gpu_available (from tensorflow.python.framework.test_util) is deprecated and will be removed in a future version.\n",
            "Instructions for updating:\n",
            "Use `tf.config.list_physical_devices('GPU')` instead.\n",
            "• GPU Device Found.\n"
          ],
          "name": "stdout"
        }
      ]
    },
    {
      "cell_type": "markdown",
      "metadata": {
        "id": "qOc1RmtPdjqm"
      },
      "source": [
        "## TensorFlow Lite\r\n",
        "TensorFlow Lite is a set of tools to help developers run TensorFlow models on mobile, embedded, and IoT devices. It enables on-device machine learning inference with low latency and a small binary size.\r\n",
        "TensorFlow Lite is designed to make it easy to perform machine learning on devices, \"at the edge\" of the network, instead of sending data back and forth from a server. For developers, performing machine learning on-device can help improve:\r\n",
        "\r\n",
        "* Latency: there's no round-trip to a server\r\n",
        "* Privacy: no data needs to leave the device\r\n",
        "* Connectivity: an Internet connection isn't required\r\n",
        "* Power consumption: network connections are power hungry\r\n",
        "\r\n",
        "TensorFlow Lite works with a huge range of devices, from tiny microcontrollers to powerful mobile phones.\r\n",
        "\r\n",
        "See the TensorFlow Lite [docs](https://www.tensorflow.org/lite/guide) for more info.\r\n",
        "\r\n",
        "\r\n"
      ]
    },
    {
      "cell_type": "markdown",
      "metadata": {
        "id": "pJIOA-e3d8le"
      },
      "source": [
        "## Model Training\r\n",
        "\r\n",
        "Usually, the first step in converting an existing model to a TFLite model is train or retrieve it first.\r\n",
        "\r\n",
        "Use [TensorFlow Datasets](http://tensorflow.org/datasets) to load the cats and dogs dataset.\r\n",
        "\r\n",
        "This `tfds` package is the easiest way to load pre-defined data. If you have your own data, and are interested in importing using it with TensorFlow see [loading image data](../load_data/images.ipynb)\r\n",
        "\r\n",
        "The `tfds.load` method downloads and caches the data, and returns a `tf.data.Dataset` object. These objects provide powerful, efficient methods for manipulating data and piping it into your model.\r\n",
        "\r\n",
        "Since `\"cats_vs_dog\"` doesn't define standard splits, use the subsplit feature to divide it into (train, validation, test) with 80%, 10%, 10% of the data respectively.\r\n"
      ]
    },
    {
      "cell_type": "code",
      "metadata": {
        "colab": {
          "base_uri": "https://localhost:8080/"
        },
        "id": "sxXwcLpAg8fu",
        "outputId": "cf793ef8-35cc-488e-fade-d27ebbb06e6b"
      },
      "source": [
        "module_selection = (\"mobilenet_v2\", 224, 1280) #@param [\"(\\\"mobilenet_v2\\\", 224, 1280)\", \"(\\\"inception_v3\\\", 299, 2048)\"] {type:\"raw\", allow-input: true}\r\n",
        "handle_base, pixels, FV_SIZE = module_selection\r\n",
        "MODULE_HANDLE =\"https://tfhub.dev/google/tf2-preview/{}/feature_vector/4\".format(handle_base)\r\n",
        "IMAGE_SIZE = (pixels, pixels)\r\n",
        "print(\"Using {} with input size {} and output dimension {}\".format(MODULE_HANDLE, IMAGE_SIZE, FV_SIZE))"
      ],
      "execution_count": null,
      "outputs": [
        {
          "output_type": "stream",
          "text": [
            "Using https://tfhub.dev/google/tf2-preview/mobilenet_v2/feature_vector/4 with input size (224, 224) and output dimension 1280\n"
          ],
          "name": "stdout"
        }
      ]
    },
    {
      "cell_type": "code",
      "metadata": {
        "id": "cCtPZNRwg-02"
      },
      "source": [
        "splits, info = tfds.load('cats_vs_dogs', with_info=True, as_supervised=True, \r\n",
        "                         split =[\"train[:80%]\", \"train[80%:-10%]\", \"train[-10%:]\"])\r\n",
        "\r\n",
        "(train_examples, validation_examples, test_examples) = splits\r\n",
        "\r\n",
        "num_examples = info.splits['train'].num_examples\r\n",
        "num_classes = info.features['label'].num_classes"
      ],
      "execution_count": null,
      "outputs": []
    },
    {
      "cell_type": "markdown",
      "metadata": {
        "id": "8YTRme8vFEp8"
      },
      "source": [
        "### Format the Data\r\n",
        "\r\n",
        "Use the `tf.image` module to format the images for the task.\r\n",
        "\r\n",
        "Resize the images to a fixes input size, and rescale the input channels"
      ]
    },
    {
      "cell_type": "code",
      "metadata": {
        "id": "MYrPPooshApF"
      },
      "source": [
        "def format_image(image, label):\r\n",
        "    image = tf.image.resize(image, IMAGE_SIZE) / 255.0\r\n",
        "    return  image, label"
      ],
      "execution_count": null,
      "outputs": []
    },
    {
      "cell_type": "code",
      "metadata": {
        "id": "o_n4rX5ghNri"
      },
      "source": [
        "## Shuffling and batching the data\r\n",
        "BATCH_SIZE = 32 #@param {type:\"integer\"}"
      ],
      "execution_count": null,
      "outputs": []
    },
    {
      "cell_type": "code",
      "metadata": {
        "id": "gHXm7wdphQwe"
      },
      "source": [
        "train_batches = train_examples.shuffle(num_examples // 4).map(format_image).batch(BATCH_SIZE).prefetch(1)\r\n",
        "validation_batches = validation_examples.map(format_image).batch(BATCH_SIZE).prefetch(1)\r\n",
        "test_batches = test_examples.map(format_image).batch(1)"
      ],
      "execution_count": null,
      "outputs": []
    },
    {
      "cell_type": "code",
      "metadata": {
        "id": "eFXNv3wfhUqN"
      },
      "source": [
        "do_fine_tuning = False\r\n",
        "feature_extractor = hub.KerasLayer(MODULE_HANDLE,\r\n",
        "                                   input_shape=IMAGE_SIZE + (3,), \r\n",
        "                                   output_shape=[FV_SIZE],\r\n",
        "                                   trainable=False)"
      ],
      "execution_count": null,
      "outputs": []
    },
    {
      "cell_type": "markdown",
      "metadata": {
        "id": "ftfVKpfnHefl"
      },
      "source": [
        "## Defining the Model\r\n",
        "\r\n",
        "All it takes is to put a linear classifier on top of the `feature_extractor_layer` with the Hub module.\r\n",
        "\r\n",
        "For speed, we start out with a non-trainable `feature_extractor_layer`, but you can also enable fine-tuning for greater accuracy."
      ]
    },
    {
      "cell_type": "code",
      "metadata": {
        "colab": {
          "base_uri": "https://localhost:8080/"
        },
        "id": "TmnqdQ1ShYso",
        "outputId": "6d3d1c8e-30f8-4167-b614-0ff7e16e534d"
      },
      "source": [
        "print(\"Building model with\", MODULE_HANDLE)\r\n",
        "\r\n",
        "model = tf.keras.Sequential([\r\n",
        "        feature_extractor,\r\n",
        "        tf.keras.layers.Dense(num_classes, activation='softmax')\r\n",
        "])\r\n",
        "\r\n",
        "model.summary()"
      ],
      "execution_count": null,
      "outputs": [
        {
          "output_type": "stream",
          "text": [
            "Building model with https://tfhub.dev/google/tf2-preview/mobilenet_v2/feature_vector/4\n",
            "Model: \"sequential\"\n",
            "_________________________________________________________________\n",
            "Layer (type)                 Output Shape              Param #   \n",
            "=================================================================\n",
            "keras_layer (KerasLayer)     (None, 1280)              2257984   \n",
            "_________________________________________________________________\n",
            "dense (Dense)                (None, 2)                 2562      \n",
            "=================================================================\n",
            "Total params: 2,260,546\n",
            "Trainable params: 2,562\n",
            "Non-trainable params: 2,257,984\n",
            "_________________________________________________________________\n"
          ],
          "name": "stdout"
        }
      ]
    },
    {
      "cell_type": "code",
      "metadata": {
        "id": "AEeFqA20ha0O"
      },
      "source": [
        "#@title (Optional) Unfreeze some layers\r\n",
        "NUM_LAYERS = 10 #@param {type:\"slider\", min:1, max:50, step:1}\r\n",
        "      \r\n",
        "if do_fine_tuning:\r\n",
        "    feature_extractor.trainable = True\r\n",
        "    \r\n",
        "    for layer in model.layers[-NUM_LAYERS:]:\r\n",
        "        layer.trainable = True\r\n",
        "\r\n",
        "else:\r\n",
        "    feature_extractor.trainable = False"
      ],
      "execution_count": null,
      "outputs": []
    },
    {
      "cell_type": "code",
      "metadata": {
        "id": "3dW0kGh7hcbP"
      },
      "source": [
        "if do_fine_tuning:\r\n",
        "    model.compile(optimizer=tf.keras.optimizers.SGD(lr=0.002, momentum=0.9),\r\n",
        "                  loss=tf.keras.losses.SparseCategoricalCrossentropy(),\r\n",
        "                  metrics=['accuracy'])\r\n",
        "else:\r\n",
        "    model.compile(optimizer='adam',\r\n",
        "                  loss='sparse_categorical_crossentropy',\r\n",
        "                  metrics=['accuracy'])"
      ],
      "execution_count": null,
      "outputs": []
    },
    {
      "cell_type": "code",
      "metadata": {
        "colab": {
          "base_uri": "https://localhost:8080/"
        },
        "id": "FeQJ6eYFheKg",
        "outputId": "df6cf0c9-1c38-461d-e4f4-35e32093dcde"
      },
      "source": [
        "## Model Training\r\n",
        "\r\n",
        "EPOCHS = 5\r\n",
        "\r\n",
        "hist = model.fit(train_batches,\r\n",
        "                 epochs=EPOCHS,\r\n",
        "                 validation_data=validation_batches)"
      ],
      "execution_count": null,
      "outputs": [
        {
          "output_type": "stream",
          "text": [
            "Epoch 1/5\n",
            "582/582 [==============================] - 52s 57ms/step - loss: 0.1095 - accuracy: 0.9560 - val_loss: 0.0394 - val_accuracy: 0.9858\n",
            "Epoch 2/5\n",
            "582/582 [==============================] - 31s 47ms/step - loss: 0.0318 - accuracy: 0.9889 - val_loss: 0.0366 - val_accuracy: 0.9875\n",
            "Epoch 3/5\n",
            "582/582 [==============================] - 31s 46ms/step - loss: 0.0280 - accuracy: 0.9911 - val_loss: 0.0420 - val_accuracy: 0.9862\n",
            "Epoch 4/5\n",
            "582/582 [==============================] - 31s 46ms/step - loss: 0.0252 - accuracy: 0.9907 - val_loss: 0.0395 - val_accuracy: 0.9867\n",
            "Epoch 5/5\n",
            "582/582 [==============================] - 31s 47ms/step - loss: 0.0190 - accuracy: 0.9942 - val_loss: 0.0402 - val_accuracy: 0.9888\n"
          ],
          "name": "stdout"
        }
      ]
    },
    {
      "cell_type": "code",
      "metadata": {
        "id": "YZLM5et6hffJ"
      },
      "source": [
        "## Export Model\r\n",
        "\r\n",
        "CATS_VS_DOGS_SAVED_MODEL = \"exp_saved_model\""
      ],
      "execution_count": null,
      "outputs": []
    },
    {
      "cell_type": "markdown",
      "metadata": {
        "id": "BK6s3vrEeApu"
      },
      "source": [
        "## Model Conversion"
      ]
    },
    {
      "cell_type": "code",
      "metadata": {
        "colab": {
          "base_uri": "https://localhost:8080/"
        },
        "id": "Zo-4AjJDhidu",
        "outputId": "566a7356-c414-4a2f-ae0f-4ebcc5757c64"
      },
      "source": [
        "tf.saved_model.save(model, CATS_VS_DOGS_SAVED_MODEL)"
      ],
      "execution_count": null,
      "outputs": [
        {
          "output_type": "stream",
          "text": [
            "INFO:tensorflow:Assets written to: exp_saved_model/assets\n"
          ],
          "name": "stdout"
        },
        {
          "output_type": "stream",
          "text": [
            "INFO:tensorflow:Assets written to: exp_saved_model/assets\n"
          ],
          "name": "stderr"
        }
      ]
    },
    {
      "cell_type": "code",
      "metadata": {
        "colab": {
          "base_uri": "https://localhost:8080/"
        },
        "id": "1ctNNqEVhjyp",
        "outputId": "47bbdc8d-6a5d-4030-9478-f0df8aa6a0d3"
      },
      "source": [
        "%%bash -s $CATS_VS_DOGS_SAVED_MODEL\r\n",
        "saved_model_cli show --dir $1 --tag_set serve --signature_def serving_default"
      ],
      "execution_count": null,
      "outputs": [
        {
          "output_type": "stream",
          "text": [
            "The given SavedModel SignatureDef contains the following input(s):\n",
            "  inputs['keras_layer_input'] tensor_info:\n",
            "      dtype: DT_FLOAT\n",
            "      shape: (-1, 224, 224, 3)\n",
            "      name: serving_default_keras_layer_input:0\n",
            "The given SavedModel SignatureDef contains the following output(s):\n",
            "  outputs['dense'] tensor_info:\n",
            "      dtype: DT_FLOAT\n",
            "      shape: (-1, 2)\n",
            "      name: StatefulPartitionedCall:0\n",
            "Method name is: tensorflow/serving/predict\n"
          ],
          "name": "stdout"
        }
      ]
    },
    {
      "cell_type": "code",
      "metadata": {
        "id": "362mIq7urkxk"
      },
      "source": [
        "loaded = tf.saved_model.load(CATS_VS_DOGS_SAVED_MODEL)"
      ],
      "execution_count": null,
      "outputs": []
    },
    {
      "cell_type": "code",
      "metadata": {
        "colab": {
          "base_uri": "https://localhost:8080/"
        },
        "id": "dMeEAc0phlYe",
        "outputId": "79be320c-dd2f-47a3-f3ee-b91b6a02ee4f"
      },
      "source": [
        "print(list(loaded.signatures.keys()))\r\n",
        "infer = loaded.signatures[\"serving_default\"]\r\n",
        "print(infer.structured_input_signature)\r\n",
        "print(infer.structured_outputs)"
      ],
      "execution_count": null,
      "outputs": [
        {
          "output_type": "stream",
          "text": [
            "['serving_default']\n",
            "((), {'keras_layer_input': TensorSpec(shape=(None, 224, 224, 3), dtype=tf.float32, name='keras_layer_input')})\n",
            "{'dense': TensorSpec(shape=(None, 2), dtype=tf.float32, name='dense')}\n"
          ],
          "name": "stdout"
        }
      ]
    },
    {
      "cell_type": "code",
      "metadata": {
        "id": "oujsQRm4hmpF"
      },
      "source": [
        "converter = tf.lite.TFLiteConverter.from_saved_model(CATS_VS_DOGS_SAVED_MODEL)"
      ],
      "execution_count": null,
      "outputs": []
    },
    {
      "cell_type": "markdown",
      "metadata": {
        "id": "V2AljUsjH53T"
      },
      "source": [
        "### Post-Training Quantization\r\n",
        "The simplest form of post-training quantization quantizes weights from floating point to 8-bits of precision. This technique is enabled as an option in the TensorFlow Lite converter. At inference, weights are converted from 8-bits of precision to floating point and computed using floating-point kernels. This conversion is done once and cached to reduce latency.\r\n",
        "\r\n",
        "To further improve latency, hybrid operators dynamically quantize activations to 8-bits and perform computations with 8-bit weights and activations. This optimization provides latencies close to fully fixed-point inference. However, the outputs are still stored using floating point, so that the speedup with hybrid ops is less than a full fixed-point computation."
      ]
    },
    {
      "cell_type": "code",
      "metadata": {
        "id": "jAYold33hpF6"
      },
      "source": [
        "converter.optimizations = [tf.lite.Optimize.DEFAULT]"
      ],
      "execution_count": null,
      "outputs": []
    },
    {
      "cell_type": "markdown",
      "metadata": {
        "id": "iW_ThMOmIJ00"
      },
      "source": [
        "### Post-Training Integer Quantization\r\n",
        "We can get further latency improvements, reductions in peak memory usage, and access to integer only hardware accelerators by making sure all model math is quantized. To do this, we need to measure the dynamic range of activations and inputs with a representative data set. You can simply create an input data generator and provide it to our converter."
      ]
    },
    {
      "cell_type": "code",
      "metadata": {
        "id": "zEushlhPhvgP"
      },
      "source": [
        "def representative_data_gen():\r\n",
        "    for input_value, _ in test_batches.take(100):\r\n",
        "        yield [input_value]\r\n",
        "\r\n",
        "converter.representative_dataset = representative_data_gen"
      ],
      "execution_count": null,
      "outputs": []
    },
    {
      "cell_type": "markdown",
      "metadata": {
        "id": "8O2GVWnfIOos"
      },
      "source": [
        "### Full Integer Quantization\r\n",
        "\r\n",
        "To require the converter to only output integer operations, one can specify:"
      ]
    },
    {
      "cell_type": "code",
      "metadata": {
        "id": "_jM4z8erh4nt"
      },
      "source": [
        "converter.target_spec.supported_ops = [tf.lite.OpsSet.TFLITE_BUILTINS_INT8]"
      ],
      "execution_count": null,
      "outputs": []
    },
    {
      "cell_type": "code",
      "metadata": {
        "id": "73K2jB2mh6yd"
      },
      "source": [
        "tflite_model = converter.convert()\r\n",
        "tflite_model_file = 'converted_model.tflite'\r\n",
        "\r\n",
        "with open(tflite_model_file, \"wb\") as f:\r\n",
        "    f.write(tflite_model)"
      ],
      "execution_count": null,
      "outputs": []
    },
    {
      "cell_type": "markdown",
      "metadata": {
        "id": "SPLCyiH6eHt3"
      },
      "source": [
        "## Saving the Quantized Model"
      ]
    },
    {
      "cell_type": "code",
      "metadata": {
        "id": "kI8dH99EiDNF"
      },
      "source": [
        "# Load TFLite model and allocate tensors.\r\n",
        "  \r\n",
        "interpreter = tf.lite.Interpreter(model_path=tflite_model_file)\r\n",
        "interpreter.allocate_tensors()\r\n",
        "\r\n",
        "input_index = interpreter.get_input_details()[0][\"index\"]\r\n",
        "output_index = interpreter.get_output_details()[0][\"index\"]"
      ],
      "execution_count": null,
      "outputs": []
    },
    {
      "cell_type": "code",
      "metadata": {
        "colab": {
          "base_uri": "https://localhost:8080/"
        },
        "id": "z1YDE8ZziDm6",
        "outputId": "ff8afbfb-d6d7-49e0-ef75-9f37e1705dc6"
      },
      "source": [
        "# Gather results for the randomly sampled test images\r\n",
        "predictions = []\r\n",
        "\r\n",
        "test_labels, test_imgs = [], []\r\n",
        "for img, label in tqdm(test_batches.take(10)):\r\n",
        "    interpreter.set_tensor(input_index, img)\r\n",
        "    interpreter.invoke()\r\n",
        "    predictions.append(interpreter.get_tensor(output_index))\r\n",
        "    \r\n",
        "    test_labels.append(label.numpy()[0])\r\n",
        "    test_imgs.append(img)"
      ],
      "execution_count": null,
      "outputs": [
        {
          "output_type": "stream",
          "text": [
            "100%|██████████| 10/10 [00:08<00:00,  1.24it/s]\n"
          ],
          "name": "stderr"
        }
      ]
    },
    {
      "cell_type": "code",
      "metadata": {
        "id": "AfgXBRkosxOX"
      },
      "source": [
        "#@title Utility functions for plotting\r\n",
        "# Utilities for plotting\r\n",
        "\r\n",
        "class_names = ['cat', 'dog']\r\n",
        "\r\n",
        "def plot_image(i, predictions_array, true_label, img):\r\n",
        "    predictions_array, true_label, img = predictions_array[i], true_label[i], img[i]\r\n",
        "    plt.grid(False)\r\n",
        "    plt.xticks([])\r\n",
        "    plt.yticks([])\r\n",
        "    \r\n",
        "    img = np.squeeze(img)\r\n",
        "\r\n",
        "    plt.imshow(img, cmap=plt.cm.binary)\r\n",
        "    \r\n",
        "    predicted_label = np.argmax(predictions_array)\r\n",
        "    \r\n",
        "    if predicted_label == true_label:\r\n",
        "        color = 'green'\r\n",
        "    else:\r\n",
        "        color = 'red'\r\n",
        "    \r\n",
        "    plt.xlabel(\"{} {:2.0f}% ({})\".format(class_names[predicted_label],\r\n",
        "                                         100*np.max(predictions_array),\r\n",
        "                                         class_names[true_label]), color=color)"
      ],
      "execution_count": null,
      "outputs": []
    },
    {
      "cell_type": "code",
      "metadata": {
        "colab": {
          "base_uri": "https://localhost:8080/",
          "height": 197
        },
        "id": "tr24d3XwiHFI",
        "outputId": "9fad3750-e472-4560-946f-e83ad998cc8d"
      },
      "source": [
        "#@title Visualize the outputs { run: \"auto\" }\r\n",
        "index = 1 #@param {type:\"slider\", min:0, max:9, step:1}\r\n",
        "plt.figure(figsize=(6,3))\r\n",
        "plt.subplot(1,2,1)\r\n",
        "plot_image(index, predictions, test_labels, test_imgs)\r\n",
        "plt.show()"
      ],
      "execution_count": null,
      "outputs": [
        {
          "output_type": "display_data",
          "data": {
            "image/png": "[encoded data removed]",
            "text/plain": [
              "<Figure size 432x216 with 1 Axes>"
            ]
          },
          "metadata": {
            "tags": []
          }
        }
      ]
    },
    {
      "cell_type": "markdown",
      "metadata": {
        "id": "2mfa_tT4xtOU"
      },
      "source": [
        "# TF Serving\r\n",
        "\r\n",
        "TensorFlow Serving is a flexible, high-performance serving system for machine learning models, designed for production environments. TensorFlow Serving makes it easy to deploy new algorithms and experiments, while keeping the same server architecture and APIs. TensorFlow Serving provides out-of-the-box integration with TensorFlow models, but can be easily extended to serve other types of models and data.\r\n",
        "\r\n",
        "Check out more at the TF Serving [docs](https://www.tensorflow.org/tfx/guide/serving).\r\n",
        "\r\n"
      ]
    },
    {
      "cell_type": "code",
      "metadata": {
        "colab": {
          "base_uri": "https://localhost:8080/"
        },
        "id": "WqunJfkIxujT",
        "outputId": "eec747d5-cc87-4f3d-fc70-9ee1f7c603bc"
      },
      "source": [
        "import sys\r\n",
        "import os\r\n",
        "print(\"Installing dependencies for Colab environment\")\r\n",
        "!pip install -Uq grpcio==1.26.0"
      ],
      "execution_count": null,
      "outputs": [
        {
          "output_type": "stream",
          "text": [
            "Installing dependencies for Colab environment\n"
          ],
          "name": "stdout"
        }
      ]
    },
    {
      "cell_type": "code",
      "metadata": {
        "colab": {
          "base_uri": "https://localhost:8080/"
        },
        "id": "dbBKTqKpx37e",
        "outputId": "68cfb223-c1ab-4f68-a5ee-8757a1ccec3c"
      },
      "source": [
        "import tempfile\r\n",
        "\r\n",
        "MODEL_DIR = tempfile.gettempdir()\r\n",
        "version = 1\r\n",
        "export_path = os.path.join(MODEL_DIR, str(version))\r\n",
        "print('export_path = {}\\n'.format(export_path))\r\n",
        "\r\n",
        "tf.keras.models.save_model(\r\n",
        "    model,\r\n",
        "    export_path,\r\n",
        "    overwrite=True,\r\n",
        "    include_optimizer=True,\r\n",
        "    save_format=None,\r\n",
        "    signatures=None,\r\n",
        "    options=None\r\n",
        ")\r\n",
        "\r\n",
        "print('\\nSaved model:')\r\n",
        "!ls -l {export_path}"
      ],
      "execution_count": null,
      "outputs": [
        {
          "output_type": "stream",
          "text": [
            "export_path = /tmp/1\n",
            "\n",
            "INFO:tensorflow:Assets written to: /tmp/1/assets\n"
          ],
          "name": "stdout"
        },
        {
          "output_type": "stream",
          "text": [
            "INFO:tensorflow:Assets written to: /tmp/1/assets\n"
          ],
          "name": "stderr"
        },
        {
          "output_type": "stream",
          "text": [
            "\n",
            "Saved model:\n",
            "total 1944\n",
            "drwxr-xr-x 2 root root    4096 Jan 30 11:11 assets\n",
            "-rw-r--r-- 1 root root 1980593 Jan 30 11:44 saved_model.pb\n",
            "drwxr-xr-x 2 root root    4096 Jan 30 11:44 variables\n"
          ],
          "name": "stdout"
        }
      ]
    },
    {
      "cell_type": "markdown",
      "metadata": {
        "id": "dMjpK3W-JFQD"
      },
      "source": [
        "## Examine your saved model\r\n",
        "\r\n",
        "We'll use the command line utility `saved_model_cli` to look at the [MetaGraphDefs](https://www.tensorflow.org/versions/r1.15/api_docs/python/tf/MetaGraphDef) (the models) and [SignatureDefs](../signature_defs) (the methods you can call) in our SavedModel.  See [this discussion of the SavedModel CLI](https://github.com/tensorflow/docs/blob/master/site/en/r1/guide/saved_model.md#cli-to-inspect-and-execute-savedmodel) in the TensorFlow Guide."
      ]
    },
    {
      "cell_type": "code",
      "metadata": {
        "colab": {
          "base_uri": "https://localhost:8080/"
        },
        "id": "tkKoP7x8x7E7",
        "outputId": "86c60c12-0e2e-4510-bb63-01a627769488"
      },
      "source": [
        "!saved_model_cli show --dir {export_path} --all"
      ],
      "execution_count": null,
      "outputs": [
        {
          "output_type": "stream",
          "text": [
            "\n",
            "MetaGraphDef with tag-set: 'serve' contains the following SignatureDefs:\n",
            "\n",
            "signature_def['__saved_model_init_op']:\n",
            "  The given SavedModel SignatureDef contains the following input(s):\n",
            "  The given SavedModel SignatureDef contains the following output(s):\n",
            "    outputs['__saved_model_init_op'] tensor_info:\n",
            "        dtype: DT_INVALID\n",
            "        shape: unknown_rank\n",
            "        name: NoOp\n",
            "  Method name is: \n",
            "\n",
            "signature_def['serving_default']:\n",
            "  The given SavedModel SignatureDef contains the following input(s):\n",
            "    inputs['keras_layer_input'] tensor_info:\n",
            "        dtype: DT_FLOAT\n",
            "        shape: (-1, 224, 224, 3)\n",
            "        name: serving_default_keras_layer_input:0\n",
            "  The given SavedModel SignatureDef contains the following output(s):\n",
            "    outputs['dense'] tensor_info:\n",
            "        dtype: DT_FLOAT\n",
            "        shape: (-1, 2)\n",
            "        name: StatefulPartitionedCall:0\n",
            "  Method name is: tensorflow/serving/predict\n",
            "WARNING: Logging before flag parsing goes to stderr.\n",
            "W0130 11:44:39.720477 140459028408192 deprecation.py:506] From /usr/local/lib/python2.7/dist-packages/tensorflow_core/python/ops/resource_variable_ops.py:1786: calling __init__ (from tensorflow.python.ops.resource_variable_ops) with constraint is deprecated and will be removed in a future version.\n",
            "Instructions for updating:\n",
            "If using Keras pass *_constraint arguments to layers.\n",
            "\n",
            "Defined Functions:\n",
            "  Function Name: '__call__'\n",
            "    Option #1\n",
            "      Callable with:\n",
            "        Argument #1\n",
            "          keras_layer_input: TensorSpec(shape=(None, 224, 224, 3), dtype=tf.float32, name=u'keras_layer_input')\n",
            "        Argument #2\n",
            "          DType: bool\n",
            "          Value: True\n",
            "        Argument #3\n",
            "          DType: NoneType\n",
            "          Value: None\n",
            "    Option #2\n",
            "      Callable with:\n",
            "        Argument #1\n",
            "          inputs: TensorSpec(shape=(None, 224, 224, 3), dtype=tf.float32, name=u'inputs')\n",
            "        Argument #2\n",
            "          DType: bool\n",
            "          Value: True\n",
            "        Argument #3\n",
            "          DType: NoneType\n",
            "          Value: None\n",
            "    Option #3\n",
            "      Callable with:\n",
            "        Argument #1\n",
            "          keras_layer_input: TensorSpec(shape=(None, 224, 224, 3), dtype=tf.float32, name=u'keras_layer_input')\n",
            "        Argument #2\n",
            "          DType: bool\n",
            "          Value: False\n",
            "        Argument #3\n",
            "          DType: NoneType\n",
            "          Value: None\n",
            "    Option #4\n",
            "      Callable with:\n",
            "        Argument #1\n",
            "          inputs: TensorSpec(shape=(None, 224, 224, 3), dtype=tf.float32, name=u'inputs')\n",
            "        Argument #2\n",
            "          DType: bool\n",
            "          Value: False\n",
            "        Argument #3\n",
            "          DType: NoneType\n",
            "          Value: None\n",
            "\n",
            "  Function Name: '_default_save_signature'\n",
            "    Option #1\n",
            "      Callable with:\n",
            "        Argument #1\n",
            "          keras_layer_input: TensorSpec(shape=(None, 224, 224, 3), dtype=tf.float32, name=u'keras_layer_input')\n",
            "\n",
            "  Function Name: 'call_and_return_all_conditional_losses'\n",
            "    Option #1\n",
            "      Callable with:\n",
            "        Argument #1\n",
            "          inputs: TensorSpec(shape=(None, 224, 224, 3), dtype=tf.float32, name=u'inputs')\n",
            "        Argument #2\n",
            "          DType: bool\n",
            "          Value: True\n",
            "        Argument #3\n",
            "          DType: NoneType\n",
            "          Value: None\n",
            "    Option #2\n",
            "      Callable with:\n",
            "        Argument #1\n",
            "          inputs: TensorSpec(shape=(None, 224, 224, 3), dtype=tf.float32, name=u'inputs')\n",
            "        Argument #2\n",
            "          DType: bool\n",
            "          Value: False\n",
            "        Argument #3\n",
            "          DType: NoneType\n",
            "          Value: None\n",
            "    Option #3\n",
            "      Callable with:\n",
            "        Argument #1\n",
            "          keras_layer_input: TensorSpec(shape=(None, 224, 224, 3), dtype=tf.float32, name=u'keras_layer_input')\n",
            "        Argument #2\n",
            "          DType: bool\n",
            "          Value: False\n",
            "        Argument #3\n",
            "          DType: NoneType\n",
            "          Value: None\n",
            "    Option #4\n",
            "      Callable with:\n",
            "        Argument #1\n",
            "          keras_layer_input: TensorSpec(shape=(None, 224, 224, 3), dtype=tf.float32, name=u'keras_layer_input')\n",
            "        Argument #2\n",
            "          DType: bool\n",
            "          Value: True\n",
            "        Argument #3\n",
            "          DType: NoneType\n",
            "          Value: None\n"
          ],
          "name": "stdout"
        }
      ]
    },
    {
      "cell_type": "markdown",
      "metadata": {
        "id": "XqNE53bNJLuj"
      },
      "source": [
        "## Serve your model with TensorFlow Serving\r\n",
        "\r\n",
        "### Add TensorFlow Serving distribution URI as a package source:\r\n",
        "\r\n",
        "We're preparing to install TensorFlow Serving using [Aptitude](https://wiki.debian.org/Aptitude) since this Colab runs in a Debian environment.  We'll add the `tensorflow-model-server` package to the list of packages that Aptitude knows about.  Note that we're running as root.\r\n",
        "\r\n",
        "Note: This example is running TensorFlow Serving natively, but [you can also run it in a Docker container](https://www.tensorflow.org/tfx/serving/docker), which is one of the easiest ways to get started using TensorFlow Serving."
      ]
    },
    {
      "cell_type": "code",
      "metadata": {
        "colab": {
          "base_uri": "https://localhost:8080/"
        },
        "id": "LeNVyRKSyCjj",
        "outputId": "b736b1d3-68d1-46b8-c25f-aab24797bb2f"
      },
      "source": [
        "!echo \"deb http://storage.googleapis.com/tensorflow-serving-apt stable tensorflow-model-server tensorflow-model-server-universal\" | tee /etc/apt/sources.list.d/tensorflow-serving.list && \\\r\n",
        "curl https://storage.googleapis.com/tensorflow-serving-apt/tensorflow-serving.release.pub.gpg | apt-key add -\r\n",
        "!apt update"
      ],
      "execution_count": null,
      "outputs": [
        {
          "output_type": "stream",
          "text": [
            "deb http://storage.googleapis.com/tensorflow-serving-apt stable tensorflow-model-server tensorflow-model-server-universal\n",
            "  % Total    % Received % Xferd  Average Speed   Time    Time     Time  Current\n",
            "                                 Dload  Upload   Total   Spent    Left  Speed\n",
            "100  2943  100  2943    0     0   119k      0 --:--:-- --:--:-- --:--:--  119k\n",
            "OK\n",
            "Hit:1 http://storage.googleapis.com/tensorflow-serving-apt stable InRelease\n",
            "Hit:2 https://cloud.r-project.org/bin/linux/ubuntu bionic-cran40/ InRelease\n",
            "Ign:3 https://developer.download.nvidia.com/compute/cuda/repos/ubuntu1804/x86_64  InRelease\n",
            "Ign:4 https://developer.download.nvidia.com/compute/machine-learning/repos/ubuntu1804/x86_64  InRelease\n",
            "Get:5 http://security.ubuntu.com/ubuntu bionic-security InRelease [88.7 kB]\n",
            "Hit:6 https://developer.download.nvidia.com/compute/cuda/repos/ubuntu1804/x86_64  Release\n",
            "Hit:7 https://developer.download.nvidia.com/compute/machine-learning/repos/ubuntu1804/x86_64  Release\n",
            "Hit:8 http://ppa.launchpad.net/c2d4u.team/c2d4u4.0+/ubuntu bionic InRelease\n",
            "Hit:9 http://archive.ubuntu.com/ubuntu bionic InRelease\n",
            "Get:10 http://archive.ubuntu.com/ubuntu bionic-updates InRelease [88.7 kB]\n",
            "Hit:12 http://ppa.launchpad.net/cran/libgit2/ubuntu bionic InRelease\n",
            "Hit:14 http://ppa.launchpad.net/graphics-drivers/ppa/ubuntu bionic InRelease\n",
            "Get:15 http://archive.ubuntu.com/ubuntu bionic-backports InRelease [74.6 kB]\n",
            "Fetched 252 kB in 2s (154 kB/s)\n",
            "Reading package lists... Done\n",
            "Building dependency tree       \n",
            "Reading state information... Done\n",
            "48 packages can be upgraded. Run 'apt list --upgradable' to see them.\n"
          ],
          "name": "stdout"
        }
      ]
    },
    {
      "cell_type": "code",
      "metadata": {
        "colab": {
          "base_uri": "https://localhost:8080/"
        },
        "id": "RJ1PEnV-yHsj",
        "outputId": "3a211ddc-0276-4765-b877-4832fe9cc461"
      },
      "source": [
        "!apt-get install tensorflow-model-server"
      ],
      "execution_count": null,
      "outputs": [
        {
          "output_type": "stream",
          "text": [
            "Reading package lists... Done\n",
            "Building dependency tree       \n",
            "Reading state information... Done\n",
            "tensorflow-model-server is already the newest version (2.4.1).\n",
            "0 upgraded, 0 newly installed, 0 to remove and 48 not upgraded.\n"
          ],
          "name": "stdout"
        }
      ]
    },
    {
      "cell_type": "markdown",
      "metadata": {
        "id": "ZUcdC8gZJUC8"
      },
      "source": [
        "### Start running TensorFlow Serving\r\n",
        "\r\n",
        "This is where we start running TensorFlow Serving and load our model.  After it loads we can start making inference requests using REST.  There are some important parameters:\r\n",
        "\r\n",
        "* `rest_api_port`: The port that you'll use for REST requests.\r\n",
        "* `model_name`: You'll use this in the URL of REST requests.  It can be anything.\r\n",
        "* `model_base_path`: This is the path to the directory where you've saved your model."
      ]
    },
    {
      "cell_type": "code",
      "metadata": {
        "id": "BcqcBBw5yKcq"
      },
      "source": [
        "os.environ[\"MODEL_DIR\"] = MODEL_DIR"
      ],
      "execution_count": null,
      "outputs": []
    },
    {
      "cell_type": "code",
      "metadata": {
        "colab": {
          "base_uri": "https://localhost:8080/"
        },
        "id": "nyVpmNWNyNYD",
        "outputId": "ca1e4c80-8a7d-4a31-b42a-dde98a4eed0c"
      },
      "source": [
        "%%bash --bg \r\n",
        "nohup tensorflow_model_server \\\r\n",
        "  --rest_api_port=8501 \\\r\n",
        "  --model_name=catvdog_model \\\r\n",
        "  --model_base_path=\"${MODEL_DIR}\" >server.log 2>&1"
      ],
      "execution_count": null,
      "outputs": [
        {
          "output_type": "stream",
          "text": [
            "Starting job # 0 in a separate thread.\n"
          ],
          "name": "stdout"
        }
      ]
    },
    {
      "cell_type": "code",
      "metadata": {
        "id": "SMqwd3UryOyD"
      },
      "source": [
        "!tail server.log"
      ],
      "execution_count": null,
      "outputs": []
    },
    {
      "cell_type": "code",
      "metadata": {
        "colab": {
          "base_uri": "https://localhost:8080/"
        },
        "id": "UsdL7ozx6gSN",
        "outputId": "814c194d-4e13-4cae-fe65-eacbd7c56384"
      },
      "source": [
        "test_images, test_labels = [], []\r\n",
        "for img, labels in tqdm(test_batches.take(5)):\r\n",
        "  test_images.append(img.numpy().tolist())\r\n",
        "  test_labels.append(labels)\r\n",
        "test_images = np.array(test_images)"
      ],
      "execution_count": null,
      "outputs": [
        {
          "output_type": "stream",
          "text": [
            "100%|██████████| 5/5 [00:00<00:00,  9.16it/s]\n"
          ],
          "name": "stderr"
        }
      ]
    },
    {
      "cell_type": "code",
      "metadata": {
        "colab": {
          "base_uri": "https://localhost:8080/"
        },
        "id": "RH0cjP6sELq-",
        "outputId": "18cf9846-027f-4049-a911-9c787955e02a"
      },
      "source": [
        "test_labels"
      ],
      "execution_count": null,
      "outputs": [
        {
          "output_type": "execute_result",
          "data": {
            "text/plain": [
              "[<tf.Tensor: shape=(1,), dtype=int64, numpy=array([0])>,\n",
              " <tf.Tensor: shape=(1,), dtype=int64, numpy=array([1])>,\n",
              " <tf.Tensor: shape=(1,), dtype=int64, numpy=array([1])>,\n",
              " <tf.Tensor: shape=(1,), dtype=int64, numpy=array([0])>,\n",
              " <tf.Tensor: shape=(1,), dtype=int64, numpy=array([0])>]"
            ]
          },
          "metadata": {
            "tags": []
          },
          "execution_count": 50
        }
      ]
    },
    {
      "cell_type": "markdown",
      "metadata": {
        "id": "kYuLaA6TJbv0"
      },
      "source": [
        "### Make REST requests\r\n",
        "We'll send a predict request as a POST to our server's REST endpoint, and pass it three examples.  We'll ask our server to give us the latest version of our servable by not specifying a particular version."
      ]
    },
    {
      "cell_type": "code",
      "metadata": {
        "colab": {
          "base_uri": "https://localhost:8080/"
        },
        "id": "jjvU4R-UyQMD",
        "outputId": "ebcca4d5-f042-4d53-ef4b-4c8032bb3ca0"
      },
      "source": [
        "import json\r\n",
        "!pip install -q requests\r\n",
        "import requests\r\n",
        "\r\n",
        "index = 1\r\n",
        "inp_img = \r\n",
        "data = json.dumps({\"signature_name\": \"serving_default\", \"instances\": test_images[index].tolist()})\r\n",
        "print('Data: {} ... {}'.format(data[:50], data[len(data)-52:]))\r\n",
        "\r\n",
        "headers = {\"content-type\": \"application/json\"}\r\n",
        "json_response = requests.post('http://localhost:8501/v1/models/catvdog_model:predict', data=data, headers=headers)\r\n",
        "print(json.loads(json_response.text))\r\n",
        "predictions = json.loads(json_response.text)['predictions']\r\n",
        "\r\n"
      ],
      "execution_count": null,
      "outputs": [
        {
          "output_type": "stream",
          "text": [
            "Data: {\"signature_name\": \"serving_default\", \"instances\": ... 00525, 0.20533432066440582, 0.13866765797138214]]]]}\n",
            "{'predictions': [[0.109205239, 0.890794754]]}\n"
          ],
          "name": "stdout"
        }
      ]
    },
    {
      "cell_type": "code",
      "metadata": {
        "colab": {
          "base_uri": "https://localhost:8080/",
          "height": 208
        },
        "id": "1R-rna6B5byK",
        "outputId": "371897f1-0c34-46b6-d22b-f0da5838a82c"
      },
      "source": [
        "#@title Visualize the outputs { run: \"auto\" }\r\n",
        "plt.figure(figsize=(6,3))\r\n",
        "plot_image(0, predictions, test_labels[index], test_imgs[index])\r\n",
        "plt.show()"
      ],
      "execution_count": null,
      "outputs": [
        {
          "output_type": "display_data",
          "data": {
            "image/png": "[encoded data removed]",
            "text/plain": [
              "<Figure size 432x216 with 1 Axes>"
            ]
          },
          "metadata": {
            "tags": []
          }
        }
      ]
    }
  ]
}